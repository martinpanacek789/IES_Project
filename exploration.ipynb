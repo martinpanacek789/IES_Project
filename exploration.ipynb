{
 "cells": [
  {
   "cell_type": "code",
   "execution_count": 357,
   "metadata": {},
   "outputs": [],
   "source": [
    "import pandas as pd\n",
    "import numpy as np\n",
    "import yfinance as yf\n",
    "import matplotlib.pyplot as plt\n",
    "import math\n",
    "import timeit"
   ]
  },
  {
   "cell_type": "markdown",
   "metadata": {},
   "source": [
    "# Individual Stocks"
   ]
  },
  {
   "cell_type": "code",
   "execution_count": 3,
   "metadata": {},
   "outputs": [],
   "source": [
    "bb = yf.Ticker(\"BB\")"
   ]
  },
  {
   "cell_type": "code",
   "execution_count": 14,
   "metadata": {},
   "outputs": [
    {
     "data": {
      "text/plain": [
       "dict_keys(['zip', 'sector', 'fullTimeEmployees', 'longBusinessSummary', 'city', 'phone', 'state', 'country', 'companyOfficers', 'website', 'maxAge', 'address1', 'industry', 'previousClose', 'regularMarketOpen', 'twoHundredDayAverage', 'trailingAnnualDividendYield', 'payoutRatio', 'volume24Hr', 'regularMarketDayHigh', 'navPrice', 'averageDailyVolume10Day', 'totalAssets', 'regularMarketPreviousClose', 'fiftyDayAverage', 'trailingAnnualDividendRate', 'open', 'toCurrency', 'averageVolume10days', 'expireDate', 'yield', 'algorithm', 'dividendRate', 'exDividendDate', 'beta', 'circulatingSupply', 'startDate', 'regularMarketDayLow', 'priceHint', 'currency', 'regularMarketVolume', 'lastMarket', 'maxSupply', 'openInterest', 'marketCap', 'volumeAllCurrencies', 'strikePrice', 'averageVolume', 'priceToSalesTrailing12Months', 'dayLow', 'ask', 'ytdReturn', 'askSize', 'volume', 'fiftyTwoWeekHigh', 'forwardPE', 'fromCurrency', 'fiveYearAvgDividendYield', 'fiftyTwoWeekLow', 'bid', 'tradeable', 'dividendYield', 'bidSize', 'dayHigh', 'exchange', 'shortName', 'longName', 'exchangeTimezoneName', 'exchangeTimezoneShortName', 'isEsgPopulated', 'gmtOffSetMilliseconds', 'quoteType', 'symbol', 'messageBoardId', 'market', 'annualHoldingsTurnover', 'enterpriseToRevenue', 'beta3Year', 'profitMargins', 'enterpriseToEbitda', '52WeekChange', 'morningStarRiskRating', 'forwardEps', 'revenueQuarterlyGrowth', 'sharesOutstanding', 'fundInceptionDate', 'annualReportExpenseRatio', 'bookValue', 'sharesShort', 'sharesPercentSharesOut', 'fundFamily', 'lastFiscalYearEnd', 'heldPercentInstitutions', 'netIncomeToCommon', 'trailingEps', 'lastDividendValue', 'SandP52WeekChange', 'priceToBook', 'heldPercentInsiders', 'nextFiscalYearEnd', 'mostRecentQuarter', 'shortRatio', 'sharesShortPreviousMonthDate', 'floatShares', 'enterpriseValue', 'threeYearAverageReturn', 'lastSplitDate', 'lastSplitFactor', 'legalType', 'lastDividendDate', 'morningStarOverallRating', 'earningsQuarterlyGrowth', 'dateShortInterest', 'pegRatio', 'lastCapGain', 'shortPercentOfFloat', 'sharesShortPriorMonth', 'impliedSharesOutstanding', 'category', 'fiveYearAverageReturn', 'regularMarketPrice', 'logo_url'])"
      ]
     },
     "execution_count": 14,
     "metadata": {},
     "output_type": "execute_result"
    }
   ],
   "source": [
    "bb.info.keys()"
   ]
  },
  {
   "cell_type": "code",
   "execution_count": 152,
   "metadata": {},
   "outputs": [
    {
     "data": {
      "text/plain": [
       "5007219200"
      ]
     },
     "execution_count": 152,
     "metadata": {},
     "output_type": "execute_result"
    }
   ],
   "source": [
    "bb.info['marketCap']"
   ]
  },
  {
   "cell_type": "markdown",
   "metadata": {},
   "source": [
    "# Multiple Tickers / Portfolios / Indices"
   ]
  },
  {
   "cell_type": "code",
   "execution_count": 273,
   "metadata": {},
   "outputs": [],
   "source": [
    "portfolio_tickers = [\"BB\", \"BP\", \"AMD\", \"AAL\", \"PLTR\", \"KO\", \"V\", \"CRM\"]\n",
    "portfolio_weights = np.repeat(1/len(portfolio_tickers), len(portfolio_tickers))\n",
    "portfolio = yf.Tickers(\" \".join(portfolio_tickers))"
   ]
  },
  {
   "cell_type": "code",
   "execution_count": 101,
   "metadata": {},
   "outputs": [
    {
     "data": {
      "text/plain": [
       "[9.06, 25.5, 83.91, 21.3, 23.37, 54.26, 236.86, 234.36]"
      ]
     },
     "execution_count": 101,
     "metadata": {},
     "output_type": "execute_result"
    }
   ],
   "source": [
    "[portfolio.tickers[i].info.get('sector') for i in portfolio_tickers]\n",
    "[portfolio.tickers[i].info.get('marketCap') for i in portfolio_tickers]\n",
    "[portfolio.tickers[i].info.get('industry') for i in portfolio_tickers]\n",
    "[portfolio.tickers[i].info.get('previousClose') for i in portfolio_tickers]"
   ]
  },
  {
   "cell_type": "code",
   "execution_count": 121,
   "metadata": {
    "collapsed": true,
    "jupyter": {
     "outputs_hidden": true
    }
   },
   "outputs": [
    {
     "data": {
      "text/html": [
       "<div>\n",
       "<style scoped>\n",
       "    .dataframe tbody tr th:only-of-type {\n",
       "        vertical-align: middle;\n",
       "    }\n",
       "\n",
       "    .dataframe tbody tr th {\n",
       "        vertical-align: top;\n",
       "    }\n",
       "\n",
       "    .dataframe thead tr th {\n",
       "        text-align: left;\n",
       "    }\n",
       "\n",
       "    .dataframe thead tr:last-of-type th {\n",
       "        text-align: right;\n",
       "    }\n",
       "</style>\n",
       "<table border=\"1\" class=\"dataframe\">\n",
       "  <thead>\n",
       "    <tr>\n",
       "      <th></th>\n",
       "      <th>AAL</th>\n",
       "      <th>KO</th>\n",
       "      <th>V</th>\n",
       "      <th>CRM</th>\n",
       "    </tr>\n",
       "    <tr>\n",
       "      <th></th>\n",
       "      <th>Value</th>\n",
       "      <th>Value</th>\n",
       "      <th>Value</th>\n",
       "      <th>Value</th>\n",
       "    </tr>\n",
       "    <tr>\n",
       "      <th>2021-3</th>\n",
       "      <th></th>\n",
       "      <th></th>\n",
       "      <th></th>\n",
       "      <th></th>\n",
       "    </tr>\n",
       "  </thead>\n",
       "  <tbody>\n",
       "    <tr>\n",
       "      <th>palmOil</th>\n",
       "      <td>False</td>\n",
       "      <td>False</td>\n",
       "      <td>False</td>\n",
       "      <td>False</td>\n",
       "    </tr>\n",
       "    <tr>\n",
       "      <th>controversialWeapons</th>\n",
       "      <td>False</td>\n",
       "      <td>False</td>\n",
       "      <td>False</td>\n",
       "      <td>False</td>\n",
       "    </tr>\n",
       "    <tr>\n",
       "      <th>gambling</th>\n",
       "      <td>False</td>\n",
       "      <td>False</td>\n",
       "      <td>False</td>\n",
       "      <td>False</td>\n",
       "    </tr>\n",
       "    <tr>\n",
       "      <th>socialScore</th>\n",
       "      <td>12.65</td>\n",
       "      <td>10.81</td>\n",
       "      <td>9.83</td>\n",
       "      <td>6.49</td>\n",
       "    </tr>\n",
       "    <tr>\n",
       "      <th>nuclear</th>\n",
       "      <td>False</td>\n",
       "      <td>False</td>\n",
       "      <td>False</td>\n",
       "      <td>False</td>\n",
       "    </tr>\n",
       "    <tr>\n",
       "      <th>furLeather</th>\n",
       "      <td>False</td>\n",
       "      <td>False</td>\n",
       "      <td>False</td>\n",
       "      <td>False</td>\n",
       "    </tr>\n",
       "    <tr>\n",
       "      <th>alcoholic</th>\n",
       "      <td>False</td>\n",
       "      <td>False</td>\n",
       "      <td>False</td>\n",
       "      <td>False</td>\n",
       "    </tr>\n",
       "    <tr>\n",
       "      <th>gmo</th>\n",
       "      <td>False</td>\n",
       "      <td>False</td>\n",
       "      <td>False</td>\n",
       "      <td>False</td>\n",
       "    </tr>\n",
       "    <tr>\n",
       "      <th>catholic</th>\n",
       "      <td>False</td>\n",
       "      <td>False</td>\n",
       "      <td>False</td>\n",
       "      <td>False</td>\n",
       "    </tr>\n",
       "    <tr>\n",
       "      <th>socialPercentile</th>\n",
       "      <td>None</td>\n",
       "      <td>None</td>\n",
       "      <td>None</td>\n",
       "      <td>None</td>\n",
       "    </tr>\n",
       "    <tr>\n",
       "      <th>peerCount</th>\n",
       "      <td>48</td>\n",
       "      <td>95</td>\n",
       "      <td>103</td>\n",
       "      <td>103</td>\n",
       "    </tr>\n",
       "    <tr>\n",
       "      <th>governanceScore</th>\n",
       "      <td>5.58</td>\n",
       "      <td>5.07</td>\n",
       "      <td>7.43</td>\n",
       "      <td>4.27</td>\n",
       "    </tr>\n",
       "    <tr>\n",
       "      <th>environmentPercentile</th>\n",
       "      <td>None</td>\n",
       "      <td>None</td>\n",
       "      <td>None</td>\n",
       "      <td>None</td>\n",
       "    </tr>\n",
       "    <tr>\n",
       "      <th>animalTesting</th>\n",
       "      <td>False</td>\n",
       "      <td>False</td>\n",
       "      <td>False</td>\n",
       "      <td>False</td>\n",
       "    </tr>\n",
       "    <tr>\n",
       "      <th>tobacco</th>\n",
       "      <td>False</td>\n",
       "      <td>False</td>\n",
       "      <td>False</td>\n",
       "      <td>False</td>\n",
       "    </tr>\n",
       "    <tr>\n",
       "      <th>totalEsg</th>\n",
       "      <td>29.93</td>\n",
       "      <td>25.08</td>\n",
       "      <td>17.36</td>\n",
       "      <td>11.23</td>\n",
       "    </tr>\n",
       "    <tr>\n",
       "      <th>highestControversy</th>\n",
       "      <td>2</td>\n",
       "      <td>3</td>\n",
       "      <td>3</td>\n",
       "      <td>2</td>\n",
       "    </tr>\n",
       "    <tr>\n",
       "      <th>esgPerformance</th>\n",
       "      <td>AVG_PERF</td>\n",
       "      <td>AVG_PERF</td>\n",
       "      <td>UNDER_PERF</td>\n",
       "      <td>UNDER_PERF</td>\n",
       "    </tr>\n",
       "    <tr>\n",
       "      <th>coal</th>\n",
       "      <td>False</td>\n",
       "      <td>False</td>\n",
       "      <td>False</td>\n",
       "      <td>False</td>\n",
       "    </tr>\n",
       "    <tr>\n",
       "      <th>pesticides</th>\n",
       "      <td>False</td>\n",
       "      <td>False</td>\n",
       "      <td>False</td>\n",
       "      <td>False</td>\n",
       "    </tr>\n",
       "    <tr>\n",
       "      <th>adult</th>\n",
       "      <td>False</td>\n",
       "      <td>False</td>\n",
       "      <td>False</td>\n",
       "      <td>False</td>\n",
       "    </tr>\n",
       "    <tr>\n",
       "      <th>percentile</th>\n",
       "      <td>57.02</td>\n",
       "      <td>39.08</td>\n",
       "      <td>13.3</td>\n",
       "      <td>2.44</td>\n",
       "    </tr>\n",
       "    <tr>\n",
       "      <th>peerGroup</th>\n",
       "      <td>Transportation</td>\n",
       "      <td>Food Products</td>\n",
       "      <td>Software &amp; Services</td>\n",
       "      <td>Software &amp; Services</td>\n",
       "    </tr>\n",
       "    <tr>\n",
       "      <th>smallArms</th>\n",
       "      <td>False</td>\n",
       "      <td>False</td>\n",
       "      <td>False</td>\n",
       "      <td>False</td>\n",
       "    </tr>\n",
       "    <tr>\n",
       "      <th>environmentScore</th>\n",
       "      <td>11.7</td>\n",
       "      <td>9.2</td>\n",
       "      <td>0.11</td>\n",
       "      <td>0.47</td>\n",
       "    </tr>\n",
       "    <tr>\n",
       "      <th>governancePercentile</th>\n",
       "      <td>None</td>\n",
       "      <td>None</td>\n",
       "      <td>None</td>\n",
       "      <td>None</td>\n",
       "    </tr>\n",
       "    <tr>\n",
       "      <th>militaryContract</th>\n",
       "      <td>False</td>\n",
       "      <td>False</td>\n",
       "      <td>False</td>\n",
       "      <td>False</td>\n",
       "    </tr>\n",
       "  </tbody>\n",
       "</table>\n",
       "</div>"
      ],
      "text/plain": [
       "                                  AAL             KO                    V  \\\n",
       "                                Value          Value                Value   \n",
       "2021-3                                                                      \n",
       "palmOil                         False          False                False   \n",
       "controversialWeapons            False          False                False   \n",
       "gambling                        False          False                False   \n",
       "socialScore                     12.65          10.81                 9.83   \n",
       "nuclear                         False          False                False   \n",
       "furLeather                      False          False                False   \n",
       "alcoholic                       False          False                False   \n",
       "gmo                             False          False                False   \n",
       "catholic                        False          False                False   \n",
       "socialPercentile                 None           None                 None   \n",
       "peerCount                          48             95                  103   \n",
       "governanceScore                  5.58           5.07                 7.43   \n",
       "environmentPercentile            None           None                 None   \n",
       "animalTesting                   False          False                False   \n",
       "tobacco                         False          False                False   \n",
       "totalEsg                        29.93          25.08                17.36   \n",
       "highestControversy                  2              3                    3   \n",
       "esgPerformance               AVG_PERF       AVG_PERF           UNDER_PERF   \n",
       "coal                            False          False                False   \n",
       "pesticides                      False          False                False   \n",
       "adult                           False          False                False   \n",
       "percentile                      57.02          39.08                 13.3   \n",
       "peerGroup              Transportation  Food Products  Software & Services   \n",
       "smallArms                       False          False                False   \n",
       "environmentScore                 11.7            9.2                 0.11   \n",
       "governancePercentile             None           None                 None   \n",
       "militaryContract                False          False                False   \n",
       "\n",
       "                                       CRM  \n",
       "                                     Value  \n",
       "2021-3                                      \n",
       "palmOil                              False  \n",
       "controversialWeapons                 False  \n",
       "gambling                             False  \n",
       "socialScore                           6.49  \n",
       "nuclear                              False  \n",
       "furLeather                           False  \n",
       "alcoholic                            False  \n",
       "gmo                                  False  \n",
       "catholic                             False  \n",
       "socialPercentile                      None  \n",
       "peerCount                              103  \n",
       "governanceScore                       4.27  \n",
       "environmentPercentile                 None  \n",
       "animalTesting                        False  \n",
       "tobacco                              False  \n",
       "totalEsg                             11.23  \n",
       "highestControversy                       2  \n",
       "esgPerformance                  UNDER_PERF  \n",
       "coal                                 False  \n",
       "pesticides                           False  \n",
       "adult                                False  \n",
       "percentile                            2.44  \n",
       "peerGroup              Software & Services  \n",
       "smallArms                            False  \n",
       "environmentScore                      0.47  \n",
       "governancePercentile                  None  \n",
       "militaryContract                     False  "
      ]
     },
     "execution_count": 121,
     "metadata": {},
     "output_type": "execute_result"
    }
   ],
   "source": [
    "pd.concat([portfolio.tickers[i].sustainability for i in portfolio_tickers], axis = 1, keys = portfolio_tickers)"
   ]
  },
  {
   "cell_type": "markdown",
   "metadata": {},
   "source": [
    "# Financial Statements"
   ]
  },
  {
   "cell_type": "code",
   "execution_count": 186,
   "metadata": {},
   "outputs": [],
   "source": [
    "port_financial = {i : portfolio.tickers[i].get_financials() for i in portfolio_tickers}\n",
    "port_balance_sheet = {i : portfolio.tickers[i].get_balance_sheet() for i in portfolio_tickers}\n",
    "port_cashflow = {i : portfolio.tickers[i].get_cashflow() for i in portfolio_tickers}"
   ]
  },
  {
   "cell_type": "code",
   "execution_count": 211,
   "metadata": {},
   "outputs": [
    {
     "data": {
      "text/html": [
       "<div>\n",
       "<style scoped>\n",
       "    .dataframe tbody tr th:only-of-type {\n",
       "        vertical-align: middle;\n",
       "    }\n",
       "\n",
       "    .dataframe tbody tr th {\n",
       "        vertical-align: top;\n",
       "    }\n",
       "\n",
       "    .dataframe thead th {\n",
       "        text-align: right;\n",
       "    }\n",
       "</style>\n",
       "<table border=\"1\" class=\"dataframe\">\n",
       "  <thead>\n",
       "    <tr style=\"text-align: right;\">\n",
       "      <th></th>\n",
       "      <th>2021-02-28</th>\n",
       "      <th>2020-02-29</th>\n",
       "      <th>2019-02-28</th>\n",
       "      <th>2018-02-28</th>\n",
       "    </tr>\n",
       "  </thead>\n",
       "  <tbody>\n",
       "    <tr>\n",
       "      <th>Research Development</th>\n",
       "      <td>2.15e+08</td>\n",
       "      <td>2.59e+08</td>\n",
       "      <td>2.17e+08</td>\n",
       "      <td>2.34e+08</td>\n",
       "    </tr>\n",
       "    <tr>\n",
       "      <th>Effect Of Accounting Charges</th>\n",
       "      <td>None</td>\n",
       "      <td>None</td>\n",
       "      <td>None</td>\n",
       "      <td>None</td>\n",
       "    </tr>\n",
       "    <tr>\n",
       "      <th>Income Before Tax</th>\n",
       "      <td>-1.113e+09</td>\n",
       "      <td>-1.48e+08</td>\n",
       "      <td>7.7e+07</td>\n",
       "      <td>4.06e+08</td>\n",
       "    </tr>\n",
       "    <tr>\n",
       "      <th>Minority Interest</th>\n",
       "      <td>None</td>\n",
       "      <td>None</td>\n",
       "      <td>None</td>\n",
       "      <td>None</td>\n",
       "    </tr>\n",
       "    <tr>\n",
       "      <th>Net Income</th>\n",
       "      <td>-1.104e+09</td>\n",
       "      <td>-1.52e+08</td>\n",
       "      <td>9.3e+07</td>\n",
       "      <td>4.05e+08</td>\n",
       "    </tr>\n",
       "    <tr>\n",
       "      <th>Selling General Administrative</th>\n",
       "      <td>3.42e+08</td>\n",
       "      <td>5.19e+08</td>\n",
       "      <td>3.9e+08</td>\n",
       "      <td>4e+08</td>\n",
       "    </tr>\n",
       "    <tr>\n",
       "      <th>Gross Profit</th>\n",
       "      <td>6.43e+08</td>\n",
       "      <td>7.68e+08</td>\n",
       "      <td>7e+08</td>\n",
       "      <td>6.81e+08</td>\n",
       "    </tr>\n",
       "    <tr>\n",
       "      <th>Ebit</th>\n",
       "      <td>-9.6e+07</td>\n",
       "      <td>-2.04e+08</td>\n",
       "      <td>-4.3e+07</td>\n",
       "      <td>-1.06e+08</td>\n",
       "    </tr>\n",
       "    <tr>\n",
       "      <th>Operating Income</th>\n",
       "      <td>-9.6e+07</td>\n",
       "      <td>-2.04e+08</td>\n",
       "      <td>-4.3e+07</td>\n",
       "      <td>-1.06e+08</td>\n",
       "    </tr>\n",
       "    <tr>\n",
       "      <th>Other Operating Expenses</th>\n",
       "      <td>None</td>\n",
       "      <td>None</td>\n",
       "      <td>None</td>\n",
       "      <td>None</td>\n",
       "    </tr>\n",
       "    <tr>\n",
       "      <th>Interest Expense</th>\n",
       "      <td>-1.5e+07</td>\n",
       "      <td>-2.3e+07</td>\n",
       "      <td>-2.4e+07</td>\n",
       "      <td>-2.3e+07</td>\n",
       "    </tr>\n",
       "    <tr>\n",
       "      <th>Extraordinary Items</th>\n",
       "      <td>None</td>\n",
       "      <td>None</td>\n",
       "      <td>None</td>\n",
       "      <td>None</td>\n",
       "    </tr>\n",
       "    <tr>\n",
       "      <th>Non Recurring</th>\n",
       "      <td>None</td>\n",
       "      <td>None</td>\n",
       "      <td>None</td>\n",
       "      <td>None</td>\n",
       "    </tr>\n",
       "    <tr>\n",
       "      <th>Other Items</th>\n",
       "      <td>None</td>\n",
       "      <td>None</td>\n",
       "      <td>None</td>\n",
       "      <td>None</td>\n",
       "    </tr>\n",
       "    <tr>\n",
       "      <th>Income Tax Expense</th>\n",
       "      <td>-9e+06</td>\n",
       "      <td>4e+06</td>\n",
       "      <td>-1.6e+07</td>\n",
       "      <td>1e+06</td>\n",
       "    </tr>\n",
       "    <tr>\n",
       "      <th>Total Revenue</th>\n",
       "      <td>8.93e+08</td>\n",
       "      <td>1.04e+09</td>\n",
       "      <td>9.04e+08</td>\n",
       "      <td>9.32e+08</td>\n",
       "    </tr>\n",
       "    <tr>\n",
       "      <th>Total Operating Expenses</th>\n",
       "      <td>9.89e+08</td>\n",
       "      <td>1.244e+09</td>\n",
       "      <td>9.47e+08</td>\n",
       "      <td>1.038e+09</td>\n",
       "    </tr>\n",
       "    <tr>\n",
       "      <th>Cost Of Revenue</th>\n",
       "      <td>2.5e+08</td>\n",
       "      <td>2.72e+08</td>\n",
       "      <td>2.04e+08</td>\n",
       "      <td>2.51e+08</td>\n",
       "    </tr>\n",
       "    <tr>\n",
       "      <th>Total Other Income Expense Net</th>\n",
       "      <td>-1.017e+09</td>\n",
       "      <td>5.6e+07</td>\n",
       "      <td>1.2e+08</td>\n",
       "      <td>5.12e+08</td>\n",
       "    </tr>\n",
       "    <tr>\n",
       "      <th>Discontinued Operations</th>\n",
       "      <td>None</td>\n",
       "      <td>None</td>\n",
       "      <td>None</td>\n",
       "      <td>None</td>\n",
       "    </tr>\n",
       "    <tr>\n",
       "      <th>Net Income From Continuing Ops</th>\n",
       "      <td>-1.104e+09</td>\n",
       "      <td>-1.52e+08</td>\n",
       "      <td>9.3e+07</td>\n",
       "      <td>4.05e+08</td>\n",
       "    </tr>\n",
       "    <tr>\n",
       "      <th>Net Income Applicable To Common Shares</th>\n",
       "      <td>-1.104e+09</td>\n",
       "      <td>-1.52e+08</td>\n",
       "      <td>9.3e+07</td>\n",
       "      <td>4.05e+08</td>\n",
       "    </tr>\n",
       "  </tbody>\n",
       "</table>\n",
       "</div>"
      ],
      "text/plain": [
       "                                       2021-02-28 2020-02-29 2019-02-28  \\\n",
       "Research Development                     2.15e+08   2.59e+08   2.17e+08   \n",
       "Effect Of Accounting Charges                 None       None       None   \n",
       "Income Before Tax                      -1.113e+09  -1.48e+08    7.7e+07   \n",
       "Minority Interest                            None       None       None   \n",
       "Net Income                             -1.104e+09  -1.52e+08    9.3e+07   \n",
       "Selling General Administrative           3.42e+08   5.19e+08    3.9e+08   \n",
       "Gross Profit                             6.43e+08   7.68e+08      7e+08   \n",
       "Ebit                                     -9.6e+07  -2.04e+08   -4.3e+07   \n",
       "Operating Income                         -9.6e+07  -2.04e+08   -4.3e+07   \n",
       "Other Operating Expenses                     None       None       None   \n",
       "Interest Expense                         -1.5e+07   -2.3e+07   -2.4e+07   \n",
       "Extraordinary Items                          None       None       None   \n",
       "Non Recurring                                None       None       None   \n",
       "Other Items                                  None       None       None   \n",
       "Income Tax Expense                         -9e+06      4e+06   -1.6e+07   \n",
       "Total Revenue                            8.93e+08   1.04e+09   9.04e+08   \n",
       "Total Operating Expenses                 9.89e+08  1.244e+09   9.47e+08   \n",
       "Cost Of Revenue                           2.5e+08   2.72e+08   2.04e+08   \n",
       "Total Other Income Expense Net         -1.017e+09    5.6e+07    1.2e+08   \n",
       "Discontinued Operations                      None       None       None   \n",
       "Net Income From Continuing Ops         -1.104e+09  -1.52e+08    9.3e+07   \n",
       "Net Income Applicable To Common Shares -1.104e+09  -1.52e+08    9.3e+07   \n",
       "\n",
       "                                       2018-02-28  \n",
       "Research Development                     2.34e+08  \n",
       "Effect Of Accounting Charges                 None  \n",
       "Income Before Tax                        4.06e+08  \n",
       "Minority Interest                            None  \n",
       "Net Income                               4.05e+08  \n",
       "Selling General Administrative              4e+08  \n",
       "Gross Profit                             6.81e+08  \n",
       "Ebit                                    -1.06e+08  \n",
       "Operating Income                        -1.06e+08  \n",
       "Other Operating Expenses                     None  \n",
       "Interest Expense                         -2.3e+07  \n",
       "Extraordinary Items                          None  \n",
       "Non Recurring                                None  \n",
       "Other Items                                  None  \n",
       "Income Tax Expense                          1e+06  \n",
       "Total Revenue                            9.32e+08  \n",
       "Total Operating Expenses                1.038e+09  \n",
       "Cost Of Revenue                          2.51e+08  \n",
       "Total Other Income Expense Net           5.12e+08  \n",
       "Discontinued Operations                      None  \n",
       "Net Income From Continuing Ops           4.05e+08  \n",
       "Net Income Applicable To Common Shares   4.05e+08  "
      ]
     },
     "execution_count": 211,
     "metadata": {},
     "output_type": "execute_result"
    }
   ],
   "source": [
    "port_financial['BB']"
   ]
  },
  {
   "cell_type": "markdown",
   "metadata": {},
   "source": [
    "# Mean - Variance"
   ]
  },
  {
   "cell_type": "code",
   "execution_count": 254,
   "metadata": {},
   "outputs": [],
   "source": [
    "port_stock_history = {ticker : portfolio.tickers[ticker].history(period = \"5y\") for ticker in portfolio_tickers} "
   ]
  },
  {
   "cell_type": "code",
   "execution_count": 341,
   "metadata": {},
   "outputs": [],
   "source": [
    "for ticker in port_stock_history:\n",
    "    port_stock_history[ticker]['log_returns'] = np.log(port_stock_history[ticker].Close/port_stock_history[ticker].Close.shift(1))"
   ]
  },
  {
   "cell_type": "code",
   "execution_count": 355,
   "metadata": {},
   "outputs": [
    {
     "data": {
      "text/plain": [
       "{'BB': 0.00017782985896287024,\n",
       " 'BP': 3.0069867934254848e-05,\n",
       " 'AMD': 0.0024507064782608363,\n",
       " 'AAL': -0.0003346090425785444,\n",
       " 'PLTR': 0.006068082718887838,\n",
       " 'KO': 0.0002756742975310548,\n",
       " 'V': 0.0008936678895269704,\n",
       " 'CRM': 0.0008683805741862102}"
      ]
     },
     "execution_count": 355,
     "metadata": {},
     "output_type": "execute_result"
    }
   ],
   "source": [
    "#Daily\n",
    "mean_log_rets = {ticker : port_stock_history[ticker].log_returns.mean() for ticker in portfolio_tickers}\n",
    "stdev_log_rets = {ticker : port_stock_history[ticker].log_returns.std() for ticker in portfolio_tickers}\n",
    "mean_log_rets"
   ]
  },
  {
   "cell_type": "code",
   "execution_count": 396,
   "metadata": {},
   "outputs": [
    {
     "data": {
      "text/plain": [
       "BB      0.155811\n",
       "BP      0.073683\n",
       "AMD     0.155917\n",
       "AAL     0.132251\n",
       "PLTR    0.388298\n",
       "KO      0.047649\n",
       "V       0.057267\n",
       "CRM     0.077907\n",
       "dtype: float64"
      ]
     },
     "execution_count": 396,
     "metadata": {},
     "output_type": "execute_result"
    }
   ],
   "source": [
    "#Monthly\n",
    "monthly_log_returns = {ticker: port_stock_history[ticker].resample('M')['log_returns'].sum() for ticker in portfolio_tickers}\n",
    "pd.concat(monthly_log_returns, axis = 1).apply(np.mean)\n",
    "pd.concat(monthly_log_returns, axis = 1).apply(np.std)"
   ]
  },
  {
   "cell_type": "code",
   "execution_count": 426,
   "metadata": {},
   "outputs": [
    {
     "data": {
      "image/png": "[encoded data removed]",
      "text/plain": [
       "<Figure size 432x288 with 1 Axes>"
      ]
     },
     "metadata": {
      "needs_background": "light"
     },
     "output_type": "display_data"
    }
   ],
   "source": [
    "plt.scatter(x = mean_log_rets.values(), y = stdev_log_rets.values(), color = 'cyan')\n",
    "plt.title(\"Mean - Variance (5Y Daily Log Returns)\")\n",
    "plt.xlabel(\"Mean\")\n",
    "plt.ylabel(\"Stdev\")\n",
    "for ticker in portfolio_tickers:\n",
    "    plt.annotate(ticker, (mean_log_rets[ticker], stdev_log_rets[ticker]))"
   ]
  },
  {
   "cell_type": "code",
   "execution_count": 150,
   "metadata": {},
   "outputs": [
    {
     "name": "stdout",
     "output_type": "stream",
     "text": [
      "466 ns ± 30.7 ns per loop (mean ± std. dev. of 7 runs, 1000000 loops each)\n"
     ]
    }
   ],
   "source": [
    "%timeit portfolio.tickers['BP'].get_cashflow()"
   ]
  },
  {
   "cell_type": "code",
   "execution_count": 147,
   "metadata": {},
   "outputs": [
    {
     "name": "stdout",
     "output_type": "stream",
     "text": [
      "537 ns ± 11.1 ns per loop (mean ± std. dev. of 7 runs, 1000000 loops each)\n"
     ]
    }
   ],
   "source": [
    "%timeit portfolio.tickers['BP'].cashflow"
   ]
  }
 ],
 "metadata": {
  "kernelspec": {
   "display_name": "Python 3",
   "language": "python",
   "name": "python3"
  },
  "language_info": {
   "codemirror_mode": {
    "name": "ipython",
    "version": 3
   },
   "file_extension": ".py",
   "mimetype": "text/x-python",
   "name": "python",
   "nbconvert_exporter": "python",
   "pygments_lexer": "ipython3",
   "version": "3.8.5"
  }
 },
 "nbformat": 4,
 "nbformat_minor": 4
}
