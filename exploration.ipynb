{
 "cells": [
  {
   "cell_type": "code",
   "execution_count": 1,
   "metadata": {},
   "outputs": [],
   "source": [
    "import pandas as pd\n",
    "import numpy as np\n",
    "import yfinance as yf\n",
    "import matplotlib.pyplot as plt\n",
    "import math\n",
    "import timeit\n",
    "from downfun import *"
   ]
  },
  {
   "cell_type": "markdown",
   "metadata": {},
   "source": [
    "# Individual Stocks"
   ]
  },
  {
   "cell_type": "code",
   "execution_count": 3,
   "metadata": {},
   "outputs": [],
   "source": [
    "bb = yf.Ticker(\"BB\")"
   ]
  },
  {
   "cell_type": "code",
   "execution_count": 14,
   "metadata": {},
   "outputs": [
    {
     "data": {
      "text/plain": [
       "dict_keys(['zip', 'sector', 'fullTimeEmployees', 'longBusinessSummary', 'city', 'phone', 'state', 'country', 'companyOfficers', 'website', 'maxAge', 'address1', 'industry', 'previousClose', 'regularMarketOpen', 'twoHundredDayAverage', 'trailingAnnualDividendYield', 'payoutRatio', 'volume24Hr', 'regularMarketDayHigh', 'navPrice', 'averageDailyVolume10Day', 'totalAssets', 'regularMarketPreviousClose', 'fiftyDayAverage', 'trailingAnnualDividendRate', 'open', 'toCurrency', 'averageVolume10days', 'expireDate', 'yield', 'algorithm', 'dividendRate', 'exDividendDate', 'beta', 'circulatingSupply', 'startDate', 'regularMarketDayLow', 'priceHint', 'currency', 'regularMarketVolume', 'lastMarket', 'maxSupply', 'openInterest', 'marketCap', 'volumeAllCurrencies', 'strikePrice', 'averageVolume', 'priceToSalesTrailing12Months', 'dayLow', 'ask', 'ytdReturn', 'askSize', 'volume', 'fiftyTwoWeekHigh', 'forwardPE', 'fromCurrency', 'fiveYearAvgDividendYield', 'fiftyTwoWeekLow', 'bid', 'tradeable', 'dividendYield', 'bidSize', 'dayHigh', 'exchange', 'shortName', 'longName', 'exchangeTimezoneName', 'exchangeTimezoneShortName', 'isEsgPopulated', 'gmtOffSetMilliseconds', 'quoteType', 'symbol', 'messageBoardId', 'market', 'annualHoldingsTurnover', 'enterpriseToRevenue', 'beta3Year', 'profitMargins', 'enterpriseToEbitda', '52WeekChange', 'morningStarRiskRating', 'forwardEps', 'revenueQuarterlyGrowth', 'sharesOutstanding', 'fundInceptionDate', 'annualReportExpenseRatio', 'bookValue', 'sharesShort', 'sharesPercentSharesOut', 'fundFamily', 'lastFiscalYearEnd', 'heldPercentInstitutions', 'netIncomeToCommon', 'trailingEps', 'lastDividendValue', 'SandP52WeekChange', 'priceToBook', 'heldPercentInsiders', 'nextFiscalYearEnd', 'mostRecentQuarter', 'shortRatio', 'sharesShortPreviousMonthDate', 'floatShares', 'enterpriseValue', 'threeYearAverageReturn', 'lastSplitDate', 'lastSplitFactor', 'legalType', 'lastDividendDate', 'morningStarOverallRating', 'earningsQuarterlyGrowth', 'dateShortInterest', 'pegRatio', 'lastCapGain', 'shortPercentOfFloat', 'sharesShortPriorMonth', 'impliedSharesOutstanding', 'category', 'fiveYearAverageReturn', 'regularMarketPrice', 'logo_url'])"
      ]
     },
     "execution_count": 14,
     "metadata": {},
     "output_type": "execute_result"
    }
   ],
   "source": [
    "bb.info.keys()"
   ]
  },
  {
   "cell_type": "markdown",
   "metadata": {},
   "source": [
    "# Multiple Tickers / Portfolios / Indices"
   ]
  },
  {
   "cell_type": "code",
   "execution_count": 5,
   "metadata": {},
   "outputs": [],
   "source": [
    "portfolio_tickers = [\"BB\", \"BP\", \"AMD\", \"AAL\", \"PLTR\", \"KO\", \"V\", \"CRM\"]\n",
    "portfolio_weights = np.repeat(1/len(portfolio_tickers), len(portfolio_tickers))\n",
    "portfolio = yf.Tickers(\" \".join(portfolio_tickers))"
   ]
  },
  {
   "cell_type": "code",
   "execution_count": 101,
   "metadata": {},
   "outputs": [
    {
     "data": {
      "text/plain": [
       "[9.06, 25.5, 83.91, 21.3, 23.37, 54.26, 236.86, 234.36]"
      ]
     },
     "execution_count": 101,
     "metadata": {},
     "output_type": "execute_result"
    }
   ],
   "source": [
    "[portfolio.tickers[i].info.get('sector') for i in portfolio_tickers]\n",
    "[portfolio.tickers[i].info.get('marketCap') for i in portfolio_tickers]\n",
    "[portfolio.tickers[i].info.get('industry') for i in portfolio_tickers]\n",
    "[portfolio.tickers[i].info.get('previousClose') for i in portfolio_tickers]"
   ]
  },
  {
   "cell_type": "markdown",
   "metadata": {},
   "source": [
    "# Financial Statements"
   ]
  },
  {
   "cell_type": "code",
   "execution_count": 186,
   "metadata": {},
   "outputs": [],
   "source": [
    "port_financial = {i : portfolio.tickers[i].get_financials() for i in portfolio_tickers}\n",
    "port_balance_sheet = {i : portfolio.tickers[i].get_balance_sheet() for i in portfolio_tickers}\n",
    "port_cashflow = {i : portfolio.tickers[i].get_cashflow() for i in portfolio_tickers}"
   ]
  },
  {
   "cell_type": "markdown",
   "metadata": {},
   "source": [
    "# Mean - Variance"
   ]
  },
  {
   "cell_type": "code",
   "execution_count": 254,
   "metadata": {},
   "outputs": [],
   "source": [
    "port_stock_history = {ticker : portfolio.tickers[ticker].history(period = \"5y\") for ticker in portfolio_tickers} "
   ]
  },
  {
   "cell_type": "code",
   "execution_count": 341,
   "metadata": {},
   "outputs": [],
   "source": [
    "for ticker in port_stock_history:\n",
    "    port_stock_history[ticker]['log_returns'] = np.log(port_stock_history[ticker].Close/port_stock_history[ticker].Close.shift(1))"
   ]
  },
  {
   "cell_type": "code",
   "execution_count": 355,
   "metadata": {},
   "outputs": [
    {
     "data": {
      "text/plain": [
       "{'BB': 0.00017782985896287024,\n",
       " 'BP': 3.0069867934254848e-05,\n",
       " 'AMD': 0.0024507064782608363,\n",
       " 'AAL': -0.0003346090425785444,\n",
       " 'PLTR': 0.006068082718887838,\n",
       " 'KO': 0.0002756742975310548,\n",
       " 'V': 0.0008936678895269704,\n",
       " 'CRM': 0.0008683805741862102}"
      ]
     },
     "execution_count": 355,
     "metadata": {},
     "output_type": "execute_result"
    }
   ],
   "source": [
    "#Daily\n",
    "mean_log_rets = {ticker : port_stock_history[ticker].log_returns.mean() for ticker in portfolio_tickers}\n",
    "stdev_log_rets = {ticker : port_stock_history[ticker].log_returns.std() for ticker in portfolio_tickers}\n",
    "mean_log_rets"
   ]
  },
  {
   "cell_type": "code",
   "execution_count": 396,
   "metadata": {},
   "outputs": [
    {
     "data": {
      "text/plain": [
       "BB      0.155811\n",
       "BP      0.073683\n",
       "AMD     0.155917\n",
       "AAL     0.132251\n",
       "PLTR    0.388298\n",
       "KO      0.047649\n",
       "V       0.057267\n",
       "CRM     0.077907\n",
       "dtype: float64"
      ]
     },
     "execution_count": 396,
     "metadata": {},
     "output_type": "execute_result"
    }
   ],
   "source": [
    "#Monthly\n",
    "monthly_log_returns = {ticker: port_stock_history[ticker].resample('M')['log_returns'].sum() for ticker in portfolio_tickers}\n",
    "pd.concat(monthly_log_returns, axis = 1).apply(np.mean)\n",
    "pd.concat(monthly_log_returns, axis = 1).apply(np.std)"
   ]
  },
  {
   "cell_type": "code",
   "execution_count": 426,
   "metadata": {},
   "outputs": [
    {
     "data": {
      "image/png": "[encoded data removed]",
      "text/plain": [
       "<Figure size 432x288 with 1 Axes>"
      ]
     },
     "metadata": {
      "needs_background": "light"
     },
     "output_type": "display_data"
    }
   ],
   "source": [
    "plt.scatter(x = mean_log_rets.values(), y = stdev_log_rets.values(), color = 'cyan')\n",
    "plt.title(\"Mean - Variance (5Y Daily Log Returns)\")\n",
    "plt.xlabel(\"Mean\")\n",
    "plt.ylabel(\"Stdev\")\n",
    "for ticker in portfolio_tickers:\n",
    "    plt.annotate(ticker, (mean_log_rets[ticker], stdev_log_rets[ticker]))"
   ]
  },
  {
   "cell_type": "markdown",
   "metadata": {},
   "source": [
    "# Trying finratios and balratios functions\n",
    "- Experimentary\n",
    "    - findict returns pandas df\n",
    "    - baldict returns dict"
   ]
  },
  {
   "cell_type": "code",
   "execution_count": 44,
   "metadata": {},
   "outputs": [],
   "source": [
    "def tfunc(x):\n",
    "    return x.T.reset_index(drop = True).T\n",
    "\n",
    "findict = {ticker : finratios(ticker) for ticker in portfolio_tickers}\n",
    "baldict = {ticker : balratios(ticker) for ticker in portfolio_tickers}"
   ]
  },
  {
   "cell_type": "code",
   "execution_count": 49,
   "metadata": {},
   "outputs": [
    {
     "data": {
      "text/html": [
       "<div>\n",
       "<style scoped>\n",
       "    .dataframe tbody tr th:only-of-type {\n",
       "        vertical-align: middle;\n",
       "    }\n",
       "\n",
       "    .dataframe tbody tr th {\n",
       "        vertical-align: top;\n",
       "    }\n",
       "\n",
       "    .dataframe thead th {\n",
       "        text-align: right;\n",
       "    }\n",
       "</style>\n",
       "<table border=\"1\" class=\"dataframe\">\n",
       "  <thead>\n",
       "    <tr style=\"text-align: right;\">\n",
       "      <th></th>\n",
       "      <th></th>\n",
       "      <th>0</th>\n",
       "      <th>1</th>\n",
       "      <th>2</th>\n",
       "      <th>3</th>\n",
       "    </tr>\n",
       "  </thead>\n",
       "  <tbody>\n",
       "    <tr>\n",
       "      <th rowspan=\"5\" valign=\"top\">BB</th>\n",
       "      <th>ns_growth</th>\n",
       "      <td>-1.470000e+08</td>\n",
       "      <td>1.360000e+08</td>\n",
       "      <td>-2.800000e+07</td>\n",
       "      <td>NaN</td>\n",
       "    </tr>\n",
       "    <tr>\n",
       "      <th>ni_growth</th>\n",
       "      <td>-9.520000e+08</td>\n",
       "      <td>-2.450000e+08</td>\n",
       "      <td>-3.120000e+08</td>\n",
       "      <td>NaN</td>\n",
       "    </tr>\n",
       "    <tr>\n",
       "      <th>gmargin</th>\n",
       "      <td>2.799552e-01</td>\n",
       "      <td>2.615385e-01</td>\n",
       "      <td>2.256637e-01</td>\n",
       "      <td>0.269313</td>\n",
       "    </tr>\n",
       "    <tr>\n",
       "      <th>omargin</th>\n",
       "      <td>-1.075028e-01</td>\n",
       "      <td>-1.961538e-01</td>\n",
       "      <td>-4.756637e-02</td>\n",
       "      <td>-0.113734</td>\n",
       "    </tr>\n",
       "    <tr>\n",
       "      <th>nmargin</th>\n",
       "      <td>-1.236282e+00</td>\n",
       "      <td>-1.461538e-01</td>\n",
       "      <td>1.028761e-01</td>\n",
       "      <td>0.434549</td>\n",
       "    </tr>\n",
       "    <tr>\n",
       "      <th>...</th>\n",
       "      <th>...</th>\n",
       "      <td>...</td>\n",
       "      <td>...</td>\n",
       "      <td>...</td>\n",
       "      <td>...</td>\n",
       "    </tr>\n",
       "    <tr>\n",
       "      <th rowspan=\"5\" valign=\"top\">CRM</th>\n",
       "      <th>nmargin</th>\n",
       "      <td>1.916055e-01</td>\n",
       "      <td>7.369283e-03</td>\n",
       "      <td>8.357175e-02</td>\n",
       "      <td>0.034156</td>\n",
       "    </tr>\n",
       "    <tr>\n",
       "      <th>ir</th>\n",
       "      <td>-3.094303e-02</td>\n",
       "      <td>-1.039683e+00</td>\n",
       "      <td>-1.180180e-01</td>\n",
       "      <td>-0.363889</td>\n",
       "    </tr>\n",
       "    <tr>\n",
       "      <th>eftax</th>\n",
       "      <td>-5.900039e-01</td>\n",
       "      <td>8.215297e-01</td>\n",
       "      <td>-1.291963e-01</td>\n",
       "      <td>0.142857</td>\n",
       "    </tr>\n",
       "    <tr>\n",
       "      <th>sga_to_sales</th>\n",
       "      <td>5.534067e-01</td>\n",
       "      <td>5.611183e-01</td>\n",
       "      <td>5.578979e-01</td>\n",
       "      <td>0.546490</td>\n",
       "    </tr>\n",
       "    <tr>\n",
       "      <th>rd_intensity</th>\n",
       "      <td>1.693017e-01</td>\n",
       "      <td>1.617733e-01</td>\n",
       "      <td>1.419967e-01</td>\n",
       "      <td>0.147343</td>\n",
       "    </tr>\n",
       "  </tbody>\n",
       "</table>\n",
       "<p>72 rows × 4 columns</p>\n",
       "</div>"
      ],
      "text/plain": [
       "                             0             1             2         3\n",
       "BB  ns_growth    -1.470000e+08  1.360000e+08 -2.800000e+07       NaN\n",
       "    ni_growth    -9.520000e+08 -2.450000e+08 -3.120000e+08       NaN\n",
       "    gmargin       2.799552e-01  2.615385e-01  2.256637e-01  0.269313\n",
       "    omargin      -1.075028e-01 -1.961538e-01 -4.756637e-02 -0.113734\n",
       "    nmargin      -1.236282e+00 -1.461538e-01  1.028761e-01  0.434549\n",
       "...                        ...           ...           ...       ...\n",
       "CRM nmargin       1.916055e-01  7.369283e-03  8.357175e-02  0.034156\n",
       "    ir           -3.094303e-02 -1.039683e+00 -1.180180e-01 -0.363889\n",
       "    eftax        -5.900039e-01  8.215297e-01 -1.291963e-01  0.142857\n",
       "    sga_to_sales  5.534067e-01  5.611183e-01  5.578979e-01  0.546490\n",
       "    rd_intensity  1.693017e-01  1.617733e-01  1.419967e-01  0.147343\n",
       "\n",
       "[72 rows x 4 columns]"
      ]
     },
     "execution_count": 49,
     "metadata": {},
     "output_type": "execute_result"
    }
   ],
   "source": [
    "pd.concat({key : tfunc(df) for key, df in findict.items()})"
   ]
  },
  {
   "cell_type": "code",
   "execution_count": 45,
   "metadata": {},
   "outputs": [
    {
     "data": {
      "text/html": [
       "<div>\n",
       "<style scoped>\n",
       "    .dataframe tbody tr th:only-of-type {\n",
       "        vertical-align: middle;\n",
       "    }\n",
       "\n",
       "    .dataframe tbody tr th {\n",
       "        vertical-align: top;\n",
       "    }\n",
       "\n",
       "    .dataframe thead th {\n",
       "        text-align: right;\n",
       "    }\n",
       "</style>\n",
       "<table border=\"1\" class=\"dataframe\">\n",
       "  <thead>\n",
       "    <tr style=\"text-align: right;\">\n",
       "      <th></th>\n",
       "      <th></th>\n",
       "      <th>0</th>\n",
       "      <th>1</th>\n",
       "      <th>2</th>\n",
       "      <th>3</th>\n",
       "    </tr>\n",
       "  </thead>\n",
       "  <tbody>\n",
       "    <tr>\n",
       "      <th rowspan=\"5\" valign=\"top\">BB</th>\n",
       "      <th>Total Assets</th>\n",
       "      <td>2.818000e+09</td>\n",
       "      <td>3.888000e+09</td>\n",
       "      <td>3.968000e+09</td>\n",
       "      <td>3.780000e+09</td>\n",
       "    </tr>\n",
       "    <tr>\n",
       "      <th>Total Liabilities</th>\n",
       "      <td>1.314000e+09</td>\n",
       "      <td>1.359000e+09</td>\n",
       "      <td>1.332000e+09</td>\n",
       "      <td>1.275000e+09</td>\n",
       "    </tr>\n",
       "    <tr>\n",
       "      <th>Total Equity</th>\n",
       "      <td>1.504000e+09</td>\n",
       "      <td>2.529000e+09</td>\n",
       "      <td>2.636000e+09</td>\n",
       "      <td>2.505000e+09</td>\n",
       "    </tr>\n",
       "    <tr>\n",
       "      <th>Current Operating Assets</th>\n",
       "      <td>1.006000e+09</td>\n",
       "      <td>1.196000e+09</td>\n",
       "      <td>1.233000e+09</td>\n",
       "      <td>2.545000e+09</td>\n",
       "    </tr>\n",
       "    <tr>\n",
       "      <th>Current Operating Liabilties</th>\n",
       "      <td>4.290000e+08</td>\n",
       "      <td>1.121000e+09</td>\n",
       "      <td>5.100000e+08</td>\n",
       "      <td>4.110000e+08</td>\n",
       "    </tr>\n",
       "    <tr>\n",
       "      <th>...</th>\n",
       "      <th>...</th>\n",
       "      <td>...</td>\n",
       "      <td>...</td>\n",
       "      <td>...</td>\n",
       "      <td>...</td>\n",
       "    </tr>\n",
       "    <tr>\n",
       "      <th rowspan=\"5\" valign=\"top\">CRM</th>\n",
       "      <th>LT Operating Liabilities</th>\n",
       "      <td>7.080000e+09</td>\n",
       "      <td>6.396000e+09</td>\n",
       "      <td>3.877000e+09</td>\n",
       "      <td>1.541000e+09</td>\n",
       "    </tr>\n",
       "    <tr>\n",
       "      <th>Financing Liabilities</th>\n",
       "      <td>0.000000e+00</td>\n",
       "      <td>0.000000e+00</td>\n",
       "      <td>0.000000e+00</td>\n",
       "      <td>0.000000e+00</td>\n",
       "    </tr>\n",
       "    <tr>\n",
       "      <th>Financing Assets</th>\n",
       "      <td>0.000000e+00</td>\n",
       "      <td>0.000000e+00</td>\n",
       "      <td>0.000000e+00</td>\n",
       "      <td>0.000000e+00</td>\n",
       "    </tr>\n",
       "    <tr>\n",
       "      <th>Invested Capital</th>\n",
       "      <td>4.149300e+10</td>\n",
       "      <td>3.388500e+10</td>\n",
       "      <td>1.560500e+10</td>\n",
       "      <td>1.037600e+10</td>\n",
       "    </tr>\n",
       "    <tr>\n",
       "      <th>Net Debt</th>\n",
       "      <td>0.000000e+00</td>\n",
       "      <td>0.000000e+00</td>\n",
       "      <td>0.000000e+00</td>\n",
       "      <td>0.000000e+00</td>\n",
       "    </tr>\n",
       "  </tbody>\n",
       "</table>\n",
       "<p>104 rows × 4 columns</p>\n",
       "</div>"
      ],
      "text/plain": [
       "                                             0             1             2  \\\n",
       "BB  Total Assets                  2.818000e+09  3.888000e+09  3.968000e+09   \n",
       "    Total Liabilities             1.314000e+09  1.359000e+09  1.332000e+09   \n",
       "    Total Equity                  1.504000e+09  2.529000e+09  2.636000e+09   \n",
       "    Current Operating Assets      1.006000e+09  1.196000e+09  1.233000e+09   \n",
       "    Current Operating Liabilties  4.290000e+08  1.121000e+09  5.100000e+08   \n",
       "...                                        ...           ...           ...   \n",
       "CRM LT Operating Liabilities      7.080000e+09  6.396000e+09  3.877000e+09   \n",
       "    Financing Liabilities         0.000000e+00  0.000000e+00  0.000000e+00   \n",
       "    Financing Assets              0.000000e+00  0.000000e+00  0.000000e+00   \n",
       "    Invested Capital              4.149300e+10  3.388500e+10  1.560500e+10   \n",
       "    Net Debt                      0.000000e+00  0.000000e+00  0.000000e+00   \n",
       "\n",
       "                                             3  \n",
       "BB  Total Assets                  3.780000e+09  \n",
       "    Total Liabilities             1.275000e+09  \n",
       "    Total Equity                  2.505000e+09  \n",
       "    Current Operating Assets      2.545000e+09  \n",
       "    Current Operating Liabilties  4.110000e+08  \n",
       "...                                        ...  \n",
       "CRM LT Operating Liabilities      1.541000e+09  \n",
       "    Financing Liabilities         0.000000e+00  \n",
       "    Financing Assets              0.000000e+00  \n",
       "    Invested Capital              1.037600e+10  \n",
       "    Net Debt                      0.000000e+00  \n",
       "\n",
       "[104 rows x 4 columns]"
      ]
     },
     "execution_count": 45,
     "metadata": {},
     "output_type": "execute_result"
    }
   ],
   "source": [
    "pd.concat({key : tfunc(pd.DataFrame(v).T) for key, v in baldict.items()})"
   ]
  },
  {
   "cell_type": "code",
   "execution_count": 46,
   "metadata": {},
   "outputs": [
    {
     "name": "stdout",
     "output_type": "stream",
     "text": [
      "13.6 s ± 0 ns per loop (mean ± std. dev. of 1 run, 3 loops each)\n"
     ]
    }
   ],
   "source": [
    "%%timeit -n3 -r1\n",
    "findict = {ticker : finratios(ticker) for ticker in portfolio_tickers}\n",
    "pd.concat({key : tfunc(df) for key, df in findict.items()})"
   ]
  },
  {
   "cell_type": "code",
   "execution_count": 48,
   "metadata": {},
   "outputs": [
    {
     "name": "stdout",
     "output_type": "stream",
     "text": [
      "13.3 s ± 0 ns per loop (mean ± std. dev. of 1 run, 3 loops each)\n"
     ]
    }
   ],
   "source": [
    "%%timeit -n3 -r1\n",
    "baldict = {ticker : balratios(ticker) for ticker in portfolio_tickers}\n",
    "pd.concat({key : tfunc(pd.DataFrame(v).T) for key, v in baldict.items()})"
   ]
  }
 ],
 "metadata": {
  "kernelspec": {
   "display_name": "Python 3",
   "language": "python",
   "name": "python3"
  },
  "language_info": {
   "codemirror_mode": {
    "name": "ipython",
    "version": 3
   },
   "file_extension": ".py",
   "mimetype": "text/x-python",
   "name": "python",
   "nbconvert_exporter": "python",
   "pygments_lexer": "ipython3",
   "version": "3.8.5"
  }
 },
 "nbformat": 4,
 "nbformat_minor": 4
}
